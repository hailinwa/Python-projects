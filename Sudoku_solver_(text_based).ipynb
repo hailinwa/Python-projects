{
  "nbformat": 4,
  "nbformat_minor": 0,
  "metadata": {
    "colab": {
      "name": "Sudoku solver (text based).ipynb",
      "provenance": [],
      "collapsed_sections": [],
      "authorship_tag": "ABX9TyO3jdlwJCkRmE3a6zGlPyfP",
      "include_colab_link": true
    },
    "kernelspec": {
      "name": "python3",
      "display_name": "Python 3"
    }
  },
  "cells": [
    {
      "cell_type": "markdown",
      "metadata": {
        "id": "view-in-github",
        "colab_type": "text"
      },
      "source": [
        "<a href=\"https://colab.research.google.com/github/hailinwa/Python-projects/blob/main/Sudoku_solver_(text_based).ipynb\" target=\"_parent\"><img src=\"https://colab.research.google.com/assets/colab-badge.svg\" alt=\"Open In Colab\"/></a>"
      ]
    },
    {
      "cell_type": "code",
      "metadata": {
        "id": "v_BF-TRJ0jit"
      },
      "source": [
        "def locBlank(puzzle:'list'):\n",
        "    # finds a single empty space on the puzzle to be examined by solve()\n",
        "    for i in range(len(puzzle)): # number of rows\n",
        "        for j in range(len(puzzle[0])): # number of columns\n",
        "            if puzzle[i][j] == 0:\n",
        "                return (i, j)\n",
        "    return None\n",
        "\n",
        "def isValid(puzzle:'list', pos:'list', num:'int'):\n",
        "    # Returns boolean: if the attempted move is valid\n",
        "\n",
        "    # Check row\n",
        "    for i in range(len(puzzle)):\n",
        "        if puzzle[pos[0]][i] == num and pos[1] != i:\n",
        "            return False\n",
        "\n",
        "    # Check Col\n",
        "    for i in range(len(puzzle)):\n",
        "        if puzzle[i][pos[1]] == num and pos[0] != i:\n",
        "            return False\n",
        "\n",
        "    # Check box\n",
        "    box_x = pos[1]//3\n",
        "    box_y = pos[0]//3\n",
        "    for i in range(box_y*3, box_y*3 + 3):\n",
        "        for j in range(box_x*3, box_x*3 + 3):\n",
        "            if puzzle[i][j] == num and (i,j) != pos:\n",
        "                return False\n",
        "    \n",
        "    return True\n",
        "\n",
        "def backtrackSolve(puzzle:'list'):\n",
        "    # Solves sudoku puzzle using backtracking with complexity O(n!)\n",
        "    find = locBlank(puzzle)\n",
        "    if find:\n",
        "        row, col = find\n",
        "    else:\n",
        "        return True\n",
        "\n",
        "    for i in range(1,10):\n",
        "        if isValid(puzzle, (row, col), i):\n",
        "            puzzle[row][col] = i\n",
        "\n",
        "            if backtrackSolve(puzzle):\n",
        "                return True\n",
        "\n",
        "            puzzle[row][col] = 0\n",
        "\n",
        "    return False\n",
        "\n",
        "def printSolution(puzzle:'list'):\n",
        "\n",
        "    # check puzzle size\n",
        "    if len(puzzle) != 9 or len(puzzle[0]) != 9:\n",
        "        return print(\"Error: size of input puzzle is not 9 by 9\")\n",
        "    else:\n",
        "        backtrackSolve(puzzle)\n",
        "        # print solution in viewer friendly format\n",
        "        for i in range(len(puzzle)):\n",
        "          if i % 3 == 0 and i != 0:\n",
        "              print(\"- - - - - - - - - - -\")\n",
        "          for j in range(len(puzzle[0])):\n",
        "              if j % 3 == 0 and j != 0:\n",
        "                  print(\"| \",end=\"\")\n",
        "              if j == 8:\n",
        "                  print(puzzle[i][j])\n",
        "              else:\n",
        "                  print(str(puzzle[i][j]) + \" \", end=\"\")"
      ],
      "execution_count": null,
      "outputs": []
    },
    {
      "cell_type": "code",
      "metadata": {
        "id": "_jNauDAx9oQl",
        "outputId": "38d174e9-ae02-4f2e-bfcc-014b804b2ddb",
        "colab": {
          "base_uri": "https://localhost:8080/"
        }
      },
      "source": [
        "board = [\n",
        "        [8, 0, 0, 0, 0, 0, 0, 0, 0],\n",
        "        [0, 0, 3, 6, 0, 0, 0, 0, 0],\n",
        "        [0, 7, 0, 0, 9, 0, 2, 0, 0],\n",
        "        [0, 5, 0, 0, 0, 7, 0, 0, 0],\n",
        "        [0, 0, 0, 0, 4, 5, 7, 0, 0],\n",
        "        [0, 0, 0, 1, 0, 0, 0, 3, 0],\n",
        "        [0, 0, 1, 0, 0, 0, 0, 6, 8],\n",
        "        [0, 0, 8, 5, 0, 0, 0, 1, 0],\n",
        "        [0, 9, 0, 0, 0, 0, 4, 0, 0]\n",
        "    ]\n",
        "\n",
        "\n",
        "printSolution(board)"
      ],
      "execution_count": null,
      "outputs": [
        {
          "output_type": "stream",
          "text": [
            "8 1 2 | 7 5 3 | 6 4 9\n",
            "9 4 3 | 6 8 2 | 1 7 5\n",
            "6 7 5 | 4 9 1 | 2 8 3\n",
            "- - - - - - - - - - -\n",
            "1 5 4 | 2 3 7 | 8 9 6\n",
            "3 6 9 | 8 4 5 | 7 2 1\n",
            "2 8 7 | 1 6 9 | 5 3 4\n",
            "- - - - - - - - - - -\n",
            "5 2 1 | 9 7 4 | 3 6 8\n",
            "4 3 8 | 5 2 6 | 9 1 7\n",
            "7 9 6 | 3 1 8 | 4 5 2\n"
          ],
          "name": "stdout"
        }
      ]
    }
  ]
}